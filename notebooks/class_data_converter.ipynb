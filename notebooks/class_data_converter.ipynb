{
 "cells": [
  {
   "cell_type": "markdown",
   "metadata": {},
   "source": [
    "# Class converter"
   ]
  },
  {
   "cell_type": "markdown",
   "metadata": {},
   "source": [
    "Convert the original CSV file to JSON format."
   ]
  },
  {
   "cell_type": "code",
   "execution_count": null,
   "metadata": {},
   "outputs": [],
   "source": [
    "import csv\n",
    "\n",
    "classes = {}\n",
    "\n",
    "with open('../data/classes.csv') as csv_file:\n",
    "    reader = csv.reader(csv_file, delimiter=';')\n",
    "    for row in reader:\n",
    "        name, grade, subject, type, weekly_periods, headcount = row\n",
    "        grade = int(grade)\n",
    "        weekly_periods = int(weekly_periods)\n",
    "        headcount = int(headcount)\n",
    "        if name not in classes:\n",
    "            classes[name] = {\n",
    "                'grade': grade,\n",
    "                'headcount': headcount,\n",
    "                'subjects': {}\n",
    "            }\n",
    "        classes[name]['subjects'][subject] = {\n",
    "            'type': type,\n",
    "            'weekly_periods': weekly_periods\n",
    "        }"
   ]
  },
  {
   "cell_type": "code",
   "execution_count": null,
   "metadata": {},
   "outputs": [],
   "source": [
    "result = {\n",
    "    'classes': classes\n",
    "}"
   ]
  },
  {
   "cell_type": "code",
   "execution_count": null,
   "metadata": {},
   "outputs": [],
   "source": [
    "print(result)"
   ]
  }
 ],
 "metadata": {
  "kernelspec": {
   "display_name": "Python 3",
   "language": "python",
   "name": "python3"
  },
  "language_info": {
   "codemirror_mode": {
    "name": "ipython",
    "version": 3
   },
   "file_extension": ".py",
   "mimetype": "text/x-python",
   "name": "python",
   "nbconvert_exporter": "python",
   "pygments_lexer": "ipython3",
   "version": "3.6.9"
  }
 },
 "nbformat": 4,
 "nbformat_minor": 2
}
